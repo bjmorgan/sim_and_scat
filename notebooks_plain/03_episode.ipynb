{
 "cells": [
  {
   "cell_type": "markdown",
   "metadata": {
    "slideshow": {
     "slide_type": "slide"
    }
   },
   "source": [
    "# Molecular dynamics"
   ]
  },
  {
   "cell_type": "markdown",
   "metadata": {
    "slideshow": {
     "slide_type": "slide"
    }
   },
   "source": [
    "## Overview\n",
    "- **Teaching:** 15 min\n",
    "- **Exercises:** 0 min\n",
    "\n",
    "**Questions**\n",
    "- What is the schedule?\n",
    "- Why does each episode need an overview?\n",
    "- How do I create my content?\n",
    "\n",
    "**Objectives**\n",
    "- Understand why we adopt this structure\n",
    "- Be able to create content in the schedule and episodes"
   ]
  },
  {
   "cell_type": "markdown",
   "metadata": {
    "slideshow": {
     "slide_type": "slide"
    }
   },
   "source": [
    "Now that we have introduced the classical methods, and the complications of these methods, we can discuss how the dynamics of the molecules are obtained. \n",
    "The particles that we study are classical in nature, and therefore it is possible to apply classical mechanics to rationalise their dynamic behaviour. \n",
    "For this the starting point is **Newton's second law of motion**, \n",
    "\n",
    "$$ \\mathbf{f} = m\\mathbf{a}, $$\n",
    "\n",
    "where $\\mathbf{f}$ is the force on an atom of mass, $m$, and acceleration, $\\mathbf{a}$. \n",
    "The force between two particles, $i$ and $j$, can be found from the interaction energy, \n",
    "\n",
    "$$ f_{ij} = \\dfrac{-\\text{d}E(r_{ij})}{\\text{d}r_{ij}}.$$\n",
    "\n",
    "Which is to say that the force is the negative of the first derivative of the energy with respect to the distance between them.\n",
    "The code below creates a function that is capable of calculating the energy or the force from the Lennard-Jones potential, depending on the `force` variable. \n",
    "Both the energy and force are then plotted on a single graph."
   ]
  },
  {
   "cell_type": "code",
   "execution_count": 51,
   "metadata": {},
   "outputs": [
    {
     "data": {
      "image/png": "[encoded data removed]",
      "text/plain": [
       "<Figure size 576x360 with 1 Axes>"
      ]
     },
     "metadata": {
      "needs_background": "light"
     },
     "output_type": "display_data"
    }
   ],
   "source": [
    "%matplotlib inline\n",
    "import numpy as np\n",
    "import matplotlib.pyplot as plt\n",
    "import plot_style\n",
    "\n",
    "def lj(rij, a, b, force):\n",
    "    \"\"\"\n",
    "    Implementation of the Lennard-Jones potential \n",
    "    to calculate either the energy or the force.\n",
    "    \n",
    "    Parameters\n",
    "    ----------\n",
    "    rij: float\n",
    "        Distance between two particles\n",
    "    a: float \n",
    "        A parameter for interaction\n",
    "    b: float \n",
    "        B parameter for interaction\n",
    "    force: bool\n",
    "        If true the force will be determined.\n",
    "    \n",
    "    Returns\n",
    "    -------\n",
    "    float\n",
    "        Either the energy or the force of the interaction.\n",
    "    \"\"\"\n",
    "    if force:\n",
    "        return 12 * a / np.power(rij, 13) - 6 * b / np.power(rij, 7)\n",
    "    else:\n",
    "        return a / np.power(rij, 12) - b / np.power(rij, 6)\n",
    "    \n",
    "r = np.linspace(3.5e-10, 8e-10, 100)\n",
    "fig = plt.figure(figsize=(8, 5))\n",
    "ax = fig.add_subplot(111)\n",
    "ax.plot(r, lj(r, 1.363e-134, 9.273e-78, True))\n",
    "ax.set_xlabel(r'$r_{ij}$/m')\n",
    "ax.set_ylabel(r'$\\mathbf{f}$/N')\n",
    "plt.show()"
   ]
  },
  {
   "cell_type": "markdown",
   "metadata": {},
   "source": [
    "You may have noticed that in Newton's second law of motion, the force is a vector quantity, whereas the force as the negative of the first derivative of the energy is not. \n",
    "This means that it is necessary to convert to obtain the force vector for the relevant dimensionality. \n",
    "This is achieved by multiplication by the unit vector in each dimension,\n",
    "\n",
    "$$ \\mathbf{f}_x = f\\hat{\\mathbf{r}}_x\\text{, where }\\hat{\\mathbf{r}}_x = \\dfrac{r_x}{|\\mathbf{r}|}. $$\n",
    "\n",
    "In the above equation, $r_x$ is the distance between the two particles in the $x$-dimension and $\\mathbf{r}$ is the overall distance vector. \n",
    "The above equation must be determined to find the force in each dimension. \n",
    "However, this tutorial will only consider particles interacting in a one-dimensional space. \n",
    "\n",
    "The code below shows how to determine the acceleration on each particle due to each other particle. "
   ]
  },
  {
   "cell_type": "code",
   "execution_count": 68,
   "metadata": {},
   "outputs": [
    {
     "data": {
      "text/plain": [
       "array([ 1.46261847e+14, -5.73558108e+13, -8.89060363e+13])"
      ]
     },
     "execution_count": 68,
     "metadata": {},
     "output_type": "execute_result"
    }
   ],
   "source": [
    "mass_of_argon = 39.948 # amu\n",
    "mass_of_argon_kg = mass_of_argon * 1.6605e-27\n",
    "\n",
    "def get_accelerations(positions):\n",
    "    \"\"\"\n",
    "    Calculate the acceleration on each particle as a \n",
    "    result of each other particle. \n",
    "    \n",
    "    Parameters\n",
    "    ----------\n",
    "    positions: ndarray of floats\n",
    "        The positions, in a single dimension, for all\n",
    "        of the particles\n",
    "        \n",
    "    Returns\n",
    "    -------\n",
    "    ndarray of floats\n",
    "        The acceleration on each particle\n",
    "    \"\"\"\n",
    "    rx = np.zeros((positions.size, positions.size))\n",
    "    accelerationx = np.zeros((positions.size, positions.size))\n",
    "    for i in range(0, positions.size):\n",
    "        for j in range(0, positions.size):\n",
    "            if i != j:\n",
    "                rx = positions[j] - positions[i]\n",
    "                rmag = np.sqrt(rx * rx)\n",
    "                force = lj(rmag, 1.363e-134, 9.273e-78, True)\n",
    "                forcex = force * rx / rmag\n",
    "                accelerationx[i, j] = forcex / mass_of_argon_kg\n",
    "            else:\n",
    "                accelerationx[i, j] = 0\n",
    "    return np.sum(accelerationx, axis=0)\n",
    "\n",
    "get_accelerations(np.array([1e-10, 5e-10, 10e-10]))"
   ]
  },
  {
   "cell_type": "markdown",
   "metadata": {
    "slideshow": {
     "slide_type": "slide"
    }
   },
   "source": [
    "## Key points\n",
    "- A lesson requires a schedule and episodes.\n",
    "- The schedule gives an overview of the workshop and links each episode.\n",
    "- Each episode needs to be numbered and linked.\n",
    "- Keywords are used to decorate cells with pre-formatted `html`."
   ]
  },
  {
   "cell_type": "code",
   "execution_count": null,
   "metadata": {},
   "outputs": [],
   "source": []
  }
 ],
 "metadata": {
  "celltoolbar": "Slideshow",
  "kernelspec": {
   "display_name": "Python [default]",
   "language": "python",
   "name": "python3"
  },
  "language_info": {
   "codemirror_mode": {
    "name": "ipython",
    "version": 3
   },
   "file_extension": ".py",
   "mimetype": "text/x-python",
   "name": "python",
   "nbconvert_exporter": "python",
   "pygments_lexer": "ipython3",
   "version": "3.7.0"
  }
 },
 "nbformat": 4,
 "nbformat_minor": 2
}
