{
 "cells": [
  {
   "cell_type": "markdown",
   "metadata": {
    "slideshow": {
     "slide_type": "slide"
    }
   },
   "source": [
    "# Classical Methods"
   ]
  },
  {
   "cell_type": "markdown",
   "metadata": {
    "slideshow": {
     "slide_type": "slide"
    }
   },
   "source": [
    "## Overview\n",
    "- **Teaching:** 15 min\n",
    "- **Exercises:** 0 min\n",
    "\n",
    "**Questions**\n",
    "- How do I get the build system?\n",
    "- What are the dependencies?\n",
    "- What are the main components of the build system?\n",
    "- How do you `make` lessons?\n",
    "\n",
    "**Objectives**\n",
    "- Be able to fork and clone the template repository\n",
    "- Understand the structure of lessons\n",
    "- Know how to create environment to build lessons\n",
    "- Know how to build lessons locally"
   ]
  },
  {
   "cell_type": "markdown",
   "metadata": {
    "slideshow": {
     "slide_type": "slide"
    }
   },
   "source": [
    "**Classical molecular dynamics** (MD) is one of the most commonly applied teachniques in computational chemistry. \n",
    "In particular for the study of layer systems such as proteins, polymers, battery materials, and solar cells [[1]](#References).\n",
    "These types of applications result in significant interest from users of elastic scattering techniques to assist in the data analysis process. \n",
    "In classical molecular dynamics, as you would expect, we use **classical methods** to study the **dynamics** of **molecules**.\n",
    "\n",
    "Classical methods is the phrase used to describe all methods that use a force-field (you may hear the term potential model) to model chemical systems. \n",
    "These can be molecular dynamics, Monte Carlo, Langevin dynamics, etc. \n",
    "However, we will focus on the application in MD.\n",
    "These methods are distinct from quantum mechanical methods, such as density functional theory (DFT). \n",
    "In classical methods, the quantum mechanical **weirdness** is not present, which has a significant impact on the calculation efficiency. \n",
    "The need for quantum mechanics is removed by integrating over all of the electronic orbitals and motions, and describing the atom with a **fixed electron distribution**. \n",
    "This **simplification** has some drawbacks, these are only suitable for the study of the molecular ground states, limiting the ability to study reactions. \n",
    "Futhermore, it is necessary to **describe** this electron distribution. "
   ]
  },
  {
   "cell_type": "markdown",
   "metadata": {},
   "source": [
    "## Force-fields\n",
    "\n",
    "In practice, the model used to describe the electron distribution is usually **isotropic**, e.g. a sphere, with the electron sharing bonds between the atoms described as springs (*Figure 1*). \n",
    "The aim of a lot os chemistry is to understand the **energy** of the given system, therefore it is necessary to **parameterise** out models. \n",
    "For a molecular system, the energy is defined in terms of bonded and non-bonded interactions, \n",
    "\n",
    "$$ E_{\\text{tot}} = E_{\\text{bond}} + E_{\\text{angle}} + E_{\\text{dihedral}} + E_{\\text{non-bond}} $$\n",
    "\n",
    "where, $E_{\\text{bond}}$, $E_{\\text{angle}}$, and $E_{\\text{dihedral}}$ are the energies associated with all of the bonded interactions, and $E_{\\text{non-bond}}$ is the energy associated with all the of the non-bonded interactions. \n",
    "This tutorial will focus **only** on the non-bonded interactions.\n",
    "However, all of the parameterisation of the non-bonded interactions must also be done for bonded interactions.\n",
    "<center>\n",
    "    <br>\n",
    "    <img src=\"./figures/fig001.png\" width=\"400px\">\n",
    "    <i>Figure 1. A pictorial example of the models used in a classical method.</i>\n",
    "    <br>\n",
    "</center>"
   ]
  },
  {
   "cell_type": "markdown",
   "metadata": {},
   "source": [
    "## Dependencies\n",
    "\n",
    "Currently the dependencies are a conda installation (Miniconda/Anaconda).  We would recommend using an environment to manage the build system as the dependencies may grow over time to accommodate increased functionality/standardisation:\n",
    "```bash\n",
    "% conda create -n arc-training-bs python=3.6 jupyter \n",
    "```\n",
    "Activate/deactivate the environment with \n",
    "```bash\n",
    "% source activate arc-training-bs\n",
    "(arc-training-bs) % source deactivate\n",
    "```\n",
    "\n",
    "Additionally the build system relies upon standard linux commands, e.g. `make`, `sed`.\n"
   ]
  },
  {
   "cell_type": "markdown",
   "metadata": {
    "slideshow": {
     "slide_type": "slide"
    }
   },
   "source": [
    "## Components\n",
    "The principle components of the build system are:\n",
    "\n",
    "- `images`\n",
    "- `notebooks_plain`\n",
    "- `tools`\n",
    "\n",
    "- `images` - unsurprisingly contains any images that you wish to use in the lesson either for branding or content.\n",
    "- `notebooks_plain` - contain the contents of the lesson and are edited by the user.  **N.B. Take care when editing to close notebooks when adding, committing to a repository and particularly (if using them) when you switch between branches.**  More detail on the different notebook files is given in the next episode.\n",
    "- `tools` - is the home of the python scripts and makefile that constitute the build system.  It also has scripts for generating `latex` and `bash` magic, as well as setting up the environment on you local machine."
   ]
  },
  {
   "cell_type": "markdown",
   "metadata": {},
   "source": [
    "## Build\n",
    "\n",
    "The build works in three stages:\n",
    "\n",
    "- `make render` creates rendered notebooks (from `notebooks_plain`) in `notebooks_rendered`\n",
    "- `make html` renders html in `html` from `notebooks-rendered`\n",
    "- `make pdf` renders pdfs in `pdf` from `html` (**Coming soon**)\n",
    "\n",
    "If necessary dependencies and all notebooks are valid .ipynb files these commands are all that is required to build your lesson."
   ]
  },
  {
   "cell_type": "markdown",
   "metadata": {
    "slideshow": {
     "slide_type": "slide"
    }
   },
   "source": [
    "## Key points\n",
    "- The build system consists of the tools to build and render the content\n",
    "- The repository also contains the content of the lesson\n",
    "- The principle depedency is Jupyter and packages that can be maintained in a virtual environment.\n",
    "- The system first renders decorated notebooks->html(->pdf)."
   ]
  },
  {
   "cell_type": "markdown",
   "metadata": {
    "slideshow": {
     "slide_type": "slide"
    }
   },
   "source": [
    "# References\n",
    "\n",
    "1. M. Karplus and J. A. McCammon, (2012). Nat. Struct. Mol. Biol. 9, 646-652 [https://doi.org/10.1038/nsb0902-646](10.1038/nsb0902-646)\n",
    "2. K. Binder, (1995). *Monte Carlo and Molecular Dynamics Simulations in Polymer Science*. Oxford, UK. Oxford University Press"
   ]
  },
  {
   "cell_type": "code",
   "execution_count": null,
   "metadata": {},
   "outputs": [],
   "source": []
  }
 ],
 "metadata": {
  "celltoolbar": "Slideshow",
  "kernelspec": {
   "display_name": "Python [default]",
   "language": "python",
   "name": "python3"
  },
  "language_info": {
   "codemirror_mode": {
    "name": "ipython",
    "version": 3
   },
   "file_extension": ".py",
   "mimetype": "text/x-python",
   "name": "python",
   "nbconvert_exporter": "python",
   "pygments_lexer": "ipython3",
   "version": "3.7.0"
  }
 },
 "nbformat": 4,
 "nbformat_minor": 2
}
