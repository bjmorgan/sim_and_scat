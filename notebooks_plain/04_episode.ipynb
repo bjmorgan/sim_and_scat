{
 "cells": [
  {
   "cell_type": "markdown",
   "metadata": {
    "slideshow": {
     "slide_type": "slide"
    }
   },
   "source": [
    "# Necessary simplifications"
   ]
  },
  {
   "cell_type": "markdown",
   "metadata": {
    "slideshow": {
     "slide_type": "slide"
    }
   },
   "source": [
    "## Overview\n",
    "\n",
    "**Questions**\n",
    "- What other files?\n",
    "\n",
    "**Objectives**\n",
    "- Know that additional files are used to define a consistent appearance.\n",
    "- Understand how top and bottom banners can be used to brand training/teaching material.\n",
    "- Know that README.md in the root of the repository is converted to `index.html` in the html build."
   ]
  },
  {
   "cell_type": "markdown",
   "metadata": {
    "slideshow": {
     "slide_type": "slide"
    }
   },
   "source": [
    "Molecular dynamics (MD) is a powerful simulation technique in it's own right. \n",
    "However, in order to apply MD to practical simulations (e.g. of **real** systems), some simplifications must be made.\n",
    "\n",
    "## Cut-offs\n",
    "\n",
    "If we plot the Lennard-Jones potential all the way out to 15 Å, it will look something like this."
   ]
  },
  {
   "cell_type": "code",
   "execution_count": 7,
   "metadata": {},
   "outputs": [
    {
     "data": {
      "image/png": "[encoded data removed]",
      "text/plain": [
       "<Figure size 576x360 with 1 Axes>"
      ]
     },
     "metadata": {
      "needs_background": "light"
     },
     "output_type": "display_data"
    }
   ],
   "source": [
    "import numpy as np\n",
    "import matplotlib.pyplot as plt\n",
    "\n",
    "def lj(rij, a, b):\n",
    "    \"\"\"\n",
    "    Implementation of the Lennard-Jones potential \n",
    "    to calculate the energy of the interaction.\n",
    "    \n",
    "    Parameters\n",
    "    ----------\n",
    "    rij: float\n",
    "        Distance between two particles\n",
    "    a: float \n",
    "        A parameter for interaction\n",
    "    b: float \n",
    "        B parameter for interaction\n",
    "    \n",
    "    Returns\n",
    "    -------\n",
    "    float\n",
    "        Energy of the interaction.\n",
    "    \"\"\"\n",
    "    return a / np.power(rij, 12) - b / np.power(rij, 6)\n",
    "\n",
    "r = np.linspace(3e-10, 15e-10, 100)\n",
    "fig = plt.figure(figsize=(8, 5))\n",
    "ax = fig.add_subplot(111)\n",
    "ax.plot(r, lj(r, 1.363e-134, 9.273e-78))\n",
    "ax.set_xlabel(r'$r_{ij}$/m')\n",
    "ax.set_ylabel(r'$E$/J')\n",
    "plt.show()"
   ]
  },
  {
   "cell_type": "markdown",
   "metadata": {},
   "source": [
    "It is clear that as the particles move further away from each other, their interaction energy tends towards zero. \n",
    "The concept of a cut-off suggests that if two particles are found to be very far apart, there is no need to calculate thh energy/force. \n",
    "Instead the value is simply taken as 0,\n",
    "\n",
    "$$       E(r_{ij})=\\left\\{\n",
    "  \\begin{array}{@{}ll@{}}\n",
    "    \\dfrac{A}{r_{ij}^{12}} - \\dfrac{B}{r_{ij}^6}, & \\text{if}\\ a<15\\text{ Å} \\\\\n",
    "    0, & \\text{otherwise.}\n",
    "  \\end{array}\\right.\n",
    "$$\n",
    "\n",
    "This saves significant computation time, as power relationships (e.g. power-12 or power-6) are vey computationally expensive to calculate. \n",
    "\n",
    "This code below shows a modification of the Lennard-Jones potential that accounts for this cut-off."
   ]
  },
  {
   "cell_type": "markdown",
   "metadata": {
    "slideshow": {
     "slide_type": "slide"
    }
   },
   "source": [
    "The top banner consists of a single cell:\n",
    "```html\n",
    "<div class=\"w3-bar w3-padding\" style=\"background-color:#3b93a6\">\n",
    "<div class=\"w3-bar-item\"><h2> ARC Training </h2></div>\n",
    "<div class=\"w3-bar-item w3-right\"><img class=\"w3-image w3-right\" style=\"width:40%;max-width:400px\" src=\"../images/uob-logo-white-transparent.png\"></div>\n",
    "</div>\n",
    "```\n",
    "which appears as:"
   ]
  },
  {
   "cell_type": "markdown",
   "metadata": {
    "slideshow": {
     "slide_type": "slide"
    }
   },
   "source": [
    "<div class=\"w3-bar w3-padding\" style=\"background-color:#3b93a6\">\n",
    "<div class=\"w3-bar-item\"><h2> ARC Training </h2></div>\n",
    "<div class=\"w3-bar-item w3-right\"><img class=\"w3-image w3-right\" style=\"width:40%;max-width:400px\" src=\"../images/uob-logo-white-transparent.png\"></div>\n",
    "</div>"
   ]
  },
  {
   "cell_type": "markdown",
   "metadata": {},
   "source": [
    "You can customise:\n",
    "- The background color of the highlighted cell, here we use University of Bath Research blue-grey\n",
    "- The Title or branding of the course, here we brand with ARC, this could equally be the title of the course/lesson.\n",
    "- And the logo.\n",
    "\n",
    "Or you can go completely freestyle and change it completely."
   ]
  },
  {
   "cell_type": "markdown",
   "metadata": {},
   "source": [
    "The bottom banner is also a single cell:\n",
    "```html\n",
    "<div class=\"w3-bar\" style=\"background-color:#3b93a6\">\n",
    "<a href=\"{previous}\" class=\"w3-bar-item w3-button\"><h2><i class=\"fa fa-angle-double-left\"></i> Previous</h2></a>\n",
    "<a href=\"{index}\" class=\"w3-bar-item w3-button w3-center\" style=\"width:60%\"><h2>Schedule</h2></a>\n",
    "<a href=\"{next}\" class=\"w3-bar-item w3-button w3-right\"><h2>Next <i class=\"fa fa-angle-double-right\"></i></h2></a>\n",
    "</div>\n",
    "```\n",
    "which appears as:"
   ]
  },
  {
   "cell_type": "markdown",
   "metadata": {},
   "source": [
    "<div class=\"w3-bar\" style=\"background-color:#3b93a6\">\n",
    "<a href=\"{previous}\" class=\"w3-bar-item w3-button\"><h2><i class=\"fa fa-angle-double-left\"></i> Previous</h2></a>\n",
    "<a href=\"{index}\" class=\"w3-bar-item w3-button w3-center\" style=\"width:60%\"><h2>Schedule</h2></a>\n",
    "<a href=\"{next}\" class=\"w3-bar-item w3-button w3-right\"><h2>Next <i class=\"fa fa-angle-double-right\"></i></h2></a>\n",
    "</div>"
   ]
  },
  {
   "cell_type": "markdown",
   "metadata": {},
   "source": [
    "Here the {previous}, {index} (schedule) and {next} links are assigned when the notebooks are rendered.  You may want to change this but the build system currently expects to be able to assign these links during the build so significant changes may prevent a correct build.\n",
    "**N.B. that in both these cases the cell appear in the *plain* notebook as they do in *rendered* form.  This is markdown at work, not the build system.**  The build system makes use of this feature of markdown when it renders the plain notebooks."
   ]
  },
  {
   "cell_type": "markdown",
   "metadata": {},
   "source": [
    "## Readme\n",
    "The README.md forms an essential part of any well maintained repository, and we feel should be included in the html rendering.  Also since `00_schedule.*` is not `index` when the `html` is built, you can't just link to the root directory of the gh-pages or hosting directory because there is no `index.html` for the browser to hit.  So we render the `README.md` to `index.html` in the `html` build directory and add a link to the first page, `00_scehdule.html`, proper of the lesson."
   ]
  },
  {
   "cell_type": "markdown",
   "metadata": {
    "slideshow": {
     "slide_type": "slide"
    }
   },
   "source": [
    "## Key points\n",
    "- top and bottom are used to decorate the schedule and episodes to provide a consistent appearance.\n",
    "- Your README.md describing the project will be used as an index for the html so as always keep it up to date and informative."
   ]
  }
 ],
 "metadata": {
  "celltoolbar": "Slideshow",
  "kernelspec": {
   "display_name": "Python [default]",
   "language": "python",
   "name": "python3"
  },
  "language_info": {
   "codemirror_mode": {
    "name": "ipython",
    "version": 3
   },
   "file_extension": ".py",
   "mimetype": "text/x-python",
   "name": "python",
   "nbconvert_exporter": "python",
   "pygments_lexer": "ipython3",
   "version": "3.7.1"
  }
 },
 "nbformat": 4,
 "nbformat_minor": 2
}
