{
 "cells": [
  {
   "cell_type": "markdown",
   "metadata": {},
   "source": [
    "Install custom.css from [w3](https://www.w3schools.com/w3css/).\n",
    "\n",
    "This gives us access to the w3 class, which has excellent documentation."
   ]
  },
  {
   "cell_type": "code",
   "execution_count": 9,
   "metadata": {},
   "outputs": [
    {
     "name": "stdout",
     "output_type": "stream",
     "text": [
      "Jupyter config path is: /u/q/rjg20/.jupyter\n",
      "You already have a custom.css, this will be moved to /u/q/rjg20/.jupyter/custom/custom.backup\n",
      "Now restart your jupyter notebook\n",
      "After restarting execute the HTML snippet below, save and refresh the page\n"
     ]
    }
   ],
   "source": [
    "import os\n",
    "from jupyter_core.paths import jupyter_config_dir\n",
    "from shutil import copy, copytree\n",
    "\n",
    "jupyter_dir = jupyter_config_dir()\n",
    "print('Jupyter config path is:', jupyter_dir)\n",
    "\n",
    "custom_dir = os.path.join(jupyter_dir, 'custom')\n",
    "custom_css_dir = os.path.join(custom_dir, 'css')\n",
    "custom_css_path = os.path.join(jupyter_dir, 'custom', 'custom.css')\n",
    "\n",
    "if os.path.isfile(custom_css_path):\n",
    "    backup_dir = os.path.join(jupyter_dir, 'custom.backup')\n",
    "    print('You already have a custom.css, this will be moved to', backup_css_path)\n",
    "    os.rename(custom_dir, backup_dir)\n",
    "else:\n",
    "    print(\"You don't have a custom.css file\")\n",
    "\n",
    "    \n",
    "if not os.path.isdir(custom_dir):\n",
    "    os.mkdir(custom_dir)\n",
    "\n",
    "copy('./custom.css', custom_css_path)\n",
    "copytree('css',custom_css_dir)    \n",
    "\n",
    "print('Now restart your jupyter notebook')\n",
    "print('After restarting execute the HTML snippet below, save and refresh the page')"
   ]
  },
  {
   "cell_type": "code",
   "execution_count": null,
   "metadata": {},
   "outputs": [],
   "source": [
    "%%HTML\n",
    "<div class=\"w3-container w3-green\">If the box is green the custom.css is working</div>"
   ]
  }
 ],
 "metadata": {
  "kernelspec": {
   "display_name": "Python 3",
   "language": "python",
   "name": "python3"
  },
  "language_info": {
   "codemirror_mode": {
    "name": "ipython",
    "version": 3
   },
   "file_extension": ".py",
   "mimetype": "text/x-python",
   "name": "python",
   "nbconvert_exporter": "python",
   "pygments_lexer": "ipython3",
   "version": "3.6.6"
  }
 },
 "nbformat": 4,
 "nbformat_minor": 2
}
