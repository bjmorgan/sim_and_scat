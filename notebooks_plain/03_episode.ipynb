{
 "cells": [
  {
   "cell_type": "markdown",
   "metadata": {
    "slideshow": {
     "slide_type": "slide"
    }
   },
   "source": [
    "# Molecular Dynamics"
   ]
  },
  {
   "cell_type": "markdown",
   "metadata": {
    "slideshow": {
     "slide_type": "slide"
    }
   },
   "source": [
    "## Overview\n",
    "\n",
    "**Questions**\n",
    "- How does a molecular dynamics algorithm work?\n",
    "\n",
    "**Objectives**\n",
    "- Develop an understanding of the fundamentals of molecular dynamics\n",
    "- Construct a simple one-dimensional MD simulation from scratch"
   ]
  },
  {
   "cell_type": "markdown",
   "metadata": {
    "slideshow": {
     "slide_type": "slide"
    }
   },
   "source": [
    "Now that we have introduced the classical potential models, and how these models are obtained, we can start to look at the dynamics of the system. \n",
    "\n",
    "## Force and acceleration\n",
    "The particles that we study are classical in nature, and therefore it is possible to apply classical mechanics to rationalise their dynamic behaviour. \n",
    "For this the starting point is **Newton's second law of motion**, \n",
    "\n",
    "$$ \\mathbf{f} = m\\mathbf{a}, $$\n",
    "\n",
    "where $\\mathbf{f}$ is the force on an atom of mass, $m$, and acceleration, $\\mathbf{a}$. \n",
    "The force between two particles, $i$ and $j$, can be found from the interaction energy, \n",
    "\n",
    "$$ f_{ij} = \\dfrac{-\\text{d}E(r_{ij})}{\\text{d}r_{ij}}.$$\n",
    "\n",
    "Which is to say that the force is the negative of the first derivative of the energy with respect to the distance between them.\n",
    "The Python code below creates a new function that is capable of calculating the force from the Lennard-Jones potential. \n",
    "The force between the atoms is then plotted."
   ]
  },
  {
   "cell_type": "code",
   "execution_count": 1,
   "metadata": {},
   "outputs": [
    {
     "data": {
      "image/png": "[encoded data removed]",
      "text/plain": [
       "<Figure size 576x360 with 1 Axes>"
      ]
     },
     "metadata": {
      "needs_background": "light"
     },
     "output_type": "display_data"
    }
   ],
   "source": [
    "%matplotlib inline\n",
    "import numpy as np\n",
    "import matplotlib.pyplot as plt\n",
    "\n",
    "def lj_force(rij, a, b):\n",
    "    \"\"\"\n",
    "    Implementation of the Lennard-Jones potential \n",
    "    to calculate the force between to atoms.\n",
    "    \n",
    "    Parameters\n",
    "    ----------\n",
    "    rij: float\n",
    "        Distance between two particles\n",
    "    a: float \n",
    "        A parameter for interaction\n",
    "    b: float \n",
    "        B parameter for interaction\n",
    "    \n",
    "    Returns\n",
    "    -------\n",
    "    float\n",
    "        Either the force of the interaction.\n",
    "    \"\"\"\n",
    "    return 12 * a / np.power(rij, 13) - 6 * b / np.power(rij, 7)\n",
    "    \n",
    "r = np.linspace(3.5e-10, 8e-10, 100)\n",
    "fig = plt.figure(figsize=(8, 5))\n",
    "ax = fig.add_subplot(111)\n",
    "ax.plot(r, lj_force(r, 1.363e-134, 9.273e-78))\n",
    "ax.set_xlabel(r'$r_{ij}$/m')\n",
    "ax.set_ylabel(r'$f$/N')\n",
    "plt.show()"
   ]
  },
  {
   "cell_type": "markdown",
   "metadata": {},
   "source": [
    "You may have noticed that in Newton's second law of motion, the force is a vector quantity, whereas the first negative derivative of the energy is a scalar.\n",
    "This means that it is necessary to convert to obtain the force vector for the relevant dimensionality. \n",
    "This is achieved by multiplication by the unit vector in each dimension,\n",
    "\n",
    "$$ \\mathbf{f}_x = f\\hat{\\mathbf{r}}_x\\text{, where }\\hat{\\mathbf{r}}_x = \\dfrac{r_x}{|\\mathbf{r}|}. $$\n",
    "\n",
    "In the above equation, $r_x$ is the distance between the two particles in the $x$-dimension and $\\mathbf{r}$ is the overall distance vector. \n",
    "The above equation must be determined to find the force in each dimension. \n",
    "However, this lesson will only consider particles interacting in a one-dimensional space. \n",
    "\n",
    "The Python code below shows how to determine the acceleration on each atom of argon due to each other atom of argon. \n",
    "Due to Newton's third law, we are able to increase the efficiency of this algorithm as the force on atom $i$ will be equal and opposite to the force on atom $j$. "
   ]
  },
  {
   "cell_type": "code",
   "execution_count": 14,
   "metadata": {},
   "outputs": [
    {
     "name": "stdout",
     "output_type": "stream",
     "text": [
      "Acceleration on particle 1 = 1.463e+14 m/s\n",
      "Acceleration on particle 2 = -5.736e+13 m/s\n",
      "Acceleration on particle 3 = -8.891e+13 m/s\n"
     ]
    }
   ],
   "source": [
    "mass_of_argon = 39.948 # amu\n",
    "mass_of_argon_kg = mass_of_argon * 1.6605e-27\n",
    "\n",
    "def get_accelerations(positions):\n",
    "    \"\"\"\n",
    "    Calculate the acceleration on each particle as a \n",
    "    result of each other particle. \n",
    "    \n",
    "    Parameters\n",
    "    ----------\n",
    "    positions: ndarray of floats\n",
    "        The positions, in a single dimension, for all\n",
    "        of the particles\n",
    "        \n",
    "    Returns\n",
    "    -------\n",
    "    ndarray of floats\n",
    "        The acceleration on each particle\n",
    "    \"\"\"\n",
    "    accel_x = np.zeros((positions.size, positions.size))\n",
    "    for i in range(0, positions.size - 1):\n",
    "        for j in range(i + 1, positions.size):\n",
    "            r_x = positions[j] - positions[i]\n",
    "            rmag = np.sqrt(r_x * r_x)\n",
    "            force_scalar = lj_force(rmag, 1.363e-134, 9.273e-78)\n",
    "            force_x = force_scalar * r_x / rmag\n",
    "            accel_x[i, j] = force_x / mass_of_argon_kg\n",
    "            accel_x[j, i] = - force_x / mass_of_argon_kg\n",
    "    return np.sum(accel_x, axis=0)\n",
    "\n",
    "accel = get_accelerations(np.array([1e-10, 5e-10, 10e-10]))\n",
    "print('Acceleration on particle 1 = {:.3e} m/s'.format(accel[0]))\n",
    "print('Acceleration on particle 2 = {:.3e} m/s'.format(accel[1]))\n",
    "print('Acceleration on particle 3 = {:.3e} m/s'.format(accel[2]))"
   ]
  },
  {
   "cell_type": "markdown",
   "metadata": {},
   "source": [
    "## Integration\n",
    "\n",
    "Now that we have seen how to obtain the acceleration on our particles, we can consider applying the Newtonian equations of motion to probe the particles trajectory, \n",
    "\n",
    "$$ \\mathbf{x}_i(t + \\Delta t) = \\mathbf{x}_i(t) + \\mathbf{v}_i(t)\\Delta t + \\dfrac{1}{2} \\mathbf{a}_i(t)\\Delta t^2, $$\n",
    "\n",
    "$$ \\mathbf{v}_i(t + \\Delta t) = \\mathbf{v}_i(t) + \\dfrac{1}{2}\\big[\\mathbf{a}_i(t) + \\mathbf{a}_i(t+\\Delta t)\\big]\\Delta t, $$ \n",
    "\n",
    "where, $\\Delta t$ is the timestep (how far in time is incremented), $\\mathbf{x}_i$ is the particle position, $\\mathbf{v}_i$ is the velocity, and $\\mathbf{a}_i$ the acceleration. \n",
    "This pair of equations is known as the Velocity-Verlet algorithm, which can be written as:\n",
    "\n",
    "1. Find the position of the particle after some timestep\n",
    "2. Calculate the force (and therefore acceleration) on the particle\n",
    "3. Determine a new velocity for the particle, based on the average acceleration at the current and new positions\n",
    "4. Overwrite the old acceleration values with the new ones, $\\mathbf{a}_i(t) = \\mathbf{a}_i(t+\\Delta t)$\n",
    "5. Go to 1\n",
    "\n",
    "This process can be continued for as long as is required to get good statistics for the quantity you are intereseting in (or for as long as you can wait for/afford to run the computer for). \n",
    "\n",
    "The Python code below is a set of two function for the above equations, these will be applied later."
   ]
  },
  {
   "cell_type": "code",
   "execution_count": 15,
   "metadata": {},
   "outputs": [],
   "source": [
    "def update_pos(x, v, a, dt):\n",
    "    \"\"\"\n",
    "    Update the particle positions.\n",
    "    \n",
    "    Parameters\n",
    "    ----------\n",
    "    x: ndarray of floats\n",
    "        The positions of the particles in a single dimension\n",
    "    v: ndarray of floats\n",
    "        The velocities of the particles in a single dimension\n",
    "    a: ndarray of floats\n",
    "        The accelerations of the particles in a single dimension\n",
    "    dt: float\n",
    "        The timestep length\n",
    "    \n",
    "    Returns\n",
    "    -------\n",
    "    ndarray of floats:\n",
    "        New positions of the particles in a single dimension\n",
    "    \"\"\"\n",
    "    return x + v * dt + 0.5 * a * dt * dt\n",
    "\n",
    "def update_velo(v, a, a1, dt):\n",
    "    \"\"\"\n",
    "    Update the particle velocities.\n",
    "    \n",
    "    Parameters\n",
    "    ----------\n",
    "    v: ndarray of floats\n",
    "        The velocities of the particles in a single dimension\n",
    "    a: ndarray of floats\n",
    "        The accelerations of the particles in a single dimension \n",
    "        at the previous timestep\n",
    "    a1: ndarray of floats\n",
    "        The accelerations of the particles in a single dimension\n",
    "        at the current timestep\n",
    "    dt: float\n",
    "        The timestep length\n",
    "    \n",
    "    Returns\n",
    "    -------\n",
    "    ndarray of floats:\n",
    "        New velocities of the particles in a single dimension\n",
    "    \"\"\"\n",
    "    return v + 0.5 * (a + a1) * dt"
   ]
  },
  {
   "cell_type": "markdown",
   "metadata": {},
   "source": [
    "The above process is called the intergration step, and Velocity-Verlet is the **integrator**. \n",
    "In essence, the function that is being integrated is the acceleration on the particular atom at a given time. \n",
    "This function is highly non-linear for more than one particle. \n",
    "The result is that the integration step will only be valid for very small values of $\\Delta t$, e.g. if a large timestep is used the acceleration calculated will not be accurate as the forces on the atom will change too significantly during it. \n",
    "The value for the timestep is usually on the order of 10<sup>-15</sup> s (femtoseconds). \n",
    "So in order to measure a nanosecond of \"real-time\" molecular dynamics, 1&nbsp;000&nbsp;000 (one million) iterations of the above algorithm must be performed. \n",
    "This can take a **very, very long time** for large, realistic systems.\n",
    "\n",
    "## Initialisation\n",
    "\n",
    "There are only two tools left that we need to run a molecular dynamics simulation, and both are associated with the original configuration of the system; the original particle positions, and the original particle velocities. \n",
    "\n",
    "The particle positions are usually either taken from some library of structures (e.g. the protein data bank if you are simulating proteins) or based on some knowledge of the system (e.g. CaF<sub>2</sub> is known to have a face-centred cubic structure). \n",
    "For complex, multicomponent systems software, such as Packmol [1], may be used to build up the structure from its constituent parts.\n",
    "The importance of this initial structure cannot be overstated.\n",
    "For example if the initial structure is very far form the equilibrium structure, it may take a very long time before the equilibrium structure is obtained, possibly much longer than can be reasonably simulated. \n",
    "\n",
    "The particle velocities are more general, as the total kinetic energy, $E_K$ of the system (and therefore the particle velocities) are dependent on the temperature of the simulation, $T$. \n",
    "\n",
    "$$ E_K = \\sum_{i=1}^N \\dfrac{m_i|v_i|^2}{2} = \\dfrac{3}{2}Nk_BT, $$\n",
    "\n",
    "where, $m_i$ is the mass of particle $i$, $N$ is the number of particles, and $k_B$ is the Boltzmann constant. \n",
    "Based on this information, the most common way to obtain initial velocities is to assign random values and then scale them dependent on the temperature of the system. \n",
    "For example, in a common method for the initial velocity determinaiton is as follows, \n",
    "\n",
    "$$ v_i = R_i \\sqrt{\\dfrac{k_BT}{m_i}}, $$\n",
    "\n",
    "where $R_i$ is some random number between $-0.5$ and $0.5$, $k_B$ is the Boltzmann constant, $T$ is the temperature, and $m_i$ is the mass of the particle.\n",
    "\n",
    "This method is implemented in the Python function below. "
   ]
  },
  {
   "cell_type": "code",
   "execution_count": 16,
   "metadata": {},
   "outputs": [],
   "source": [
    "from scipy.constants import Boltzmann\n",
    "\n",
    "def init_velocity(T, number_of_particles):\n",
    "    \"\"\"\n",
    "    Initialise the velocities for a series of particles.\n",
    "    \n",
    "    Parameters\n",
    "    ----------\n",
    "    T: float\n",
    "        Temperature of the system at initialisation\n",
    "    number_of_particles: int\n",
    "        Number of particles in the system\n",
    "    \n",
    "    Returns\n",
    "    -------\n",
    "    ndarray of floats\n",
    "        Initial velocities for a series of particles\n",
    "    \"\"\"\n",
    "    R = np.random.rand(number_of_particles) - 0.5\n",
    "    return R * np.sqrt(Boltzmann * T / mass_of_argon_kg)"
   ]
  },
  {
   "cell_type": "markdown",
   "metadata": {},
   "source": [
    "## Build an MD simulation\n",
    "\n",
    "We can now use the functions defined above build a one-dimensional molecular dynamics simulation, using the Python code below. "
   ]
  },
  {
   "cell_type": "code",
   "execution_count": 23,
   "metadata": {},
   "outputs": [
    {
     "data": {
      "image/png": "[encoded data removed]",
      "text/plain": [
       "<Figure size 576x360 with 1 Axes>"
      ]
     },
     "metadata": {
      "needs_background": "light"
     },
     "output_type": "display_data"
    }
   ],
   "source": [
    "def run_md(dt, number_of_steps, initial_temp, x):\n",
    "    \"\"\"\n",
    "    Run a MD simulation.\n",
    "    \n",
    "    Parameters\n",
    "    ----------\n",
    "    dt: float\n",
    "        The timestep length\n",
    "    number_of_steps: int\n",
    "        Number of iterations in the simulation\n",
    "    initial_temp: float\n",
    "        Temperature of the system at initialisation\n",
    "    x: ndarray of floats\n",
    "        The initial positions of the particles in a single dimension\n",
    "        \n",
    "    Returns\n",
    "    -------\n",
    "    ndarray of floats\n",
    "        The positions for all of the particles throughout the simulation\n",
    "    \"\"\"\n",
    "    positions = np.zeros((number_of_steps, 3))\n",
    "    v = init_velocity(initial_temp, 3)\n",
    "    a = get_accelerations(x)\n",
    "    for i in range(number_of_steps):\n",
    "        x = update_pos(x, v, a, dt)\n",
    "        a1 = get_accelerations(x)\n",
    "        v = update_velo(v, a, a1, dt)\n",
    "        a = np.array(a1)\n",
    "        positions[i, :] = x\n",
    "    return positions\n",
    "\n",
    "sim_pos = run_md(1e-14, 10000, 300, np.array([1e-10, 5e-10, 1e-9]))\n",
    "    \n",
    "%matplotlib inline\n",
    "fig = plt.figure(figsize=(8, 5))\n",
    "ax = fig.add_subplot(111)\n",
    "for i in range(sim_pos.shape[1]):\n",
    "    ax.plot(sim_pos[:, i], '.', label='atom {}'.format(i))\n",
    "ax.set_xlabel(r'Step')\n",
    "ax.set_ylabel(r'$x$-Position/m')\n",
    "ax.legend(frameon=False)\n",
    "plt.show()"
   ]
  },
  {
   "cell_type": "markdown",
   "metadata": {},
   "source": [
    "Generally the particles will follow each other through space. \n",
    "If you build the simulation in your own Jupyter Notebook, it is possible to run the simulation at a series of different initial starting positions by varying values in the array `x`. "
   ]
  },
  {
   "cell_type": "markdown",
   "metadata": {},
   "source": [
    "## Exercise: Kaboom!!\n",
    "\n",
    "Try changing the initial particle positions to `[1e-10, 2e-10, 1e-9]`. \n",
    "The system will probably explode *explode*, consider why this has happened.\n"
   ]
  },
  {
   "cell_type": "markdown",
   "metadata": {},
   "source": [
    "## Solution: Kaboom!!\n",
    "\n",
    "Atom 0 and atom 1 have starting positions very close to each other, a distance of 1 Å. \n",
    "This means that the force between the particles is **very** large, pushing them apart. \n",
    "This system explosion is a common problem if the initial configuration is not correct. "
   ]
  },
  {
   "cell_type": "markdown",
   "metadata": {
    "slideshow": {
     "slide_type": "slide"
    }
   },
   "source": [
    "## Key Points\n",
    "- Introduced to the basics of molecular dynamics simulation\n",
    "- Understand the limitations on the timestep size available to molecular dynamics\n",
    "- Be able to program a simple one-dimension MD simulation"
   ]
  },
  {
   "cell_type": "markdown",
   "metadata": {},
   "source": [
    "# References\n",
    "\n",
    "1. L. Martínez, R. Andrade, E. G. Birgin, J. M. Martínez, (2009). J. Comput. Chem., 30(13), 2157-2164 "
   ]
  },
  {
   "cell_type": "code",
   "execution_count": null,
   "metadata": {},
   "outputs": [],
   "source": []
  }
 ],
 "metadata": {
  "celltoolbar": "Slideshow",
  "kernelspec": {
   "display_name": "Python [default]",
   "language": "python",
   "name": "python3"
  },
  "language_info": {
   "codemirror_mode": {
    "name": "ipython",
    "version": 3
   },
   "file_extension": ".py",
   "mimetype": "text/x-python",
   "name": "python",
   "nbconvert_exporter": "python",
   "pygments_lexer": "ipython3",
   "version": "3.7.0"
  }
 },
 "nbformat": 4,
 "nbformat_minor": 2
}
