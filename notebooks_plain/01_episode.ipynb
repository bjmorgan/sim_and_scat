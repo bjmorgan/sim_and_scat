{
 "cells": [
  {
   "cell_type": "markdown",
   "metadata": {
    "slideshow": {
     "slide_type": "slide"
    }
   },
   "source": [
    "# Getting started"
   ]
  },
  {
   "cell_type": "markdown",
   "metadata": {
    "slideshow": {
     "slide_type": "subslide"
    }
   },
   "source": [
    "## Overview\n",
    "In this lesson, we will set up the computer so in order to run the Jupyter Notebook and install the necessary software to use the tutorial.\n",
    "\n",
    "**Questions**\n",
    "- How do I set up my computer to run the tutorial?\n",
    "\n",
    "**Objectives**\n",
    "- Install anaconda Python and Jupyter Notebook\n",
    "- Build the `conda` environment and install the necessary Python packages"
   ]
  },
  {
   "cell_type": "markdown",
   "metadata": {
    "slideshow": {
     "slide_type": "slide"
    }
   },
   "source": [
    "## Installing software\n",
    "\n",
    "Before we can start to learn about molecular dynamics (MD) simulation, we need to ensure that our computer is ready so that you can play along, and allow for an interactive learning experience.\n",
    "\n",
    "1. Download and install [anaconda](https://www.anaconda.org/download/), ideally choose the Python 3.x version. \n",
    "\n",
    "2. Having installed anaconda, it is now standard practice to create a `conda` environment to run this tutorial in. To do so, open a Terminal window (macOS or linux) or the anaconda prompt (Windows) and run the following command. \n",
    "\n",
    "    ```\n",
    "    conda create -n tutorial python\n",
    "    ```\n",
    "   \n",
    "3. Next we must access the environment using the following command.\n",
    "    ```\n",
    "    source activate tutorial\n",
    "    ```\n",
    "\n",
    "4. Then install some packages for necessary for the tutorial.\n",
    "    ```\n",
    "    pip install pylj\n",
    "    \n",
    "    conda install nb_conda \n",
    "    \n",
    "    conda install -c anaconda scipy\n",
    "    ```\n",
    "\n",
    "5. Having set up the `conda` enivornment, all that is left to do in terms of getting started is to launch the Notebook.\n",
    "    ```\n",
    "    jupyter notebook\n",
    "    ```"
   ]
  },
  {
   "cell_type": "markdown",
   "metadata": {
    "slideshow": {
     "slide_type": "slide"
    }
   },
   "source": [
    "## Key Points\n",
    "- Your computer system is now ready to run the tutorial."
   ]
  },
  {
   "cell_type": "code",
   "execution_count": null,
   "metadata": {},
   "outputs": [],
   "source": []
  }
 ],
 "metadata": {
  "celltoolbar": "Slideshow",
  "kernelspec": {
   "display_name": "Python [default]",
   "language": "python",
   "name": "python3"
  },
  "language_info": {
   "codemirror_mode": {
    "name": "ipython",
    "version": 3
   },
   "file_extension": ".py",
   "mimetype": "text/x-python",
   "name": "python",
   "nbconvert_exporter": "python",
   "pygments_lexer": "ipython3",
   "version": "3.7.0"
  }
 },
 "nbformat": 4,
 "nbformat_minor": 2
}
