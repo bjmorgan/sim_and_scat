{
 "cells": [
  {
   "cell_type": "markdown",
   "metadata": {},
   "source": [
     "<div class=\"w3-bar w3-padding\" style=\"background-color:#50565E\">\n",
     "<div class=\"w3-bar-item\"><a href='http://pythoninchemistry.org'><img class=\"w3-image\" style=\"width:20%;max-height:120px\" src=\"../images/python_in_chemistry.png\"></a></div>\n",
     "<div class=\"w3-bar-item\"><h1 style='color:#FFFFFF;font-size:5.5rem;font-weight:700;font-family:-apple-system, BlinkMacSystemFont, \"Segoe UI\", Roboto, Oxygen, Ubuntu, Cantarell, \"Open Sans\", \"Helvetica Neue\", sans-serif;margin:10px 0 25px 0'> pythoninchemistry </h1></div><br>\n",
     "<div class=\"w3-bar-item\"><h2 style='color:#FFFFFF;font-size:1.4rem;font-weight:300;font-family:-apple-system, BlinkMacSystemFont, \"Segoe UI\", Roboto, Oxygen, Ubuntu, Cantarell, \"Open Sans\", \"Helvetica Neue\", sans-serif;'><a href=\"./00_schedule.html\">The interaction between simulation and scattering</a></h2></div>\n",
     "</div>"
   ]
  }
 ],
 "metadata": {
  "kernelspec": {
   "display_name": "Python 3",
   "language": "python",
   "name": "python3"
  },
  "language_info": {
   "codemirror_mode": {
    "name": "ipython",
    "version": 3
   },
   "file_extension": ".py",
   "mimetype": "text/x-python",
   "name": "python",
   "nbconvert_exporter": "python",
   "pygments_lexer": "ipython3",
   "version": "3.7.0"
  }
 },
 "nbformat": 4,
 "nbformat_minor": 2
}
