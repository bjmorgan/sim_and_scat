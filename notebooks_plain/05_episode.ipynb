{
 "cells": [
  {
   "cell_type": "markdown",
   "metadata": {
    "slideshow": {
     "slide_type": "slide"
    }
   },
   "source": [
    "# Using pylj"
   ]
  },
  {
   "cell_type": "markdown",
   "metadata": {
    "slideshow": {
     "slide_type": "slide"
    }
   },
   "source": [
    "## Overview\n",
    "\n",
    "**Questions**\n",
    "- What is pylj, and how do I use it?\n",
    "\n",
    "**Objectives**\n",
    "- Understand how to build a molecular dynamics simulation using pylj\n",
    "- Gain a familiarity with the extensible `Sampling` classes of pylj"
   ]
  },
  {
   "cell_type": "markdown",
   "metadata": {},
   "source": []
  },
  {
   "cell_type": "markdown",
   "metadata": {
    "slideshow": {
     "slide_type": "slide"
    }
   },
   "source": [
    "## Key points\n",
    "- Different key words decorate the md to enrich content.\n",
    "- `Overview` and `Key Points` help to plan episodes.\n",
    "- Regular `Information` can draw focus.\n",
    "- `Exercise` and `Solution` should be used in pairs with matching tags."
   ]
  }
 ],
 "metadata": {
  "celltoolbar": "Slideshow",
  "kernelspec": {
   "display_name": "Python [default]",
   "language": "python",
   "name": "python3"
  },
  "language_info": {
   "codemirror_mode": {
    "name": "ipython",
    "version": 3
   },
   "file_extension": ".py",
   "mimetype": "text/x-python",
   "name": "python",
   "nbconvert_exporter": "python",
   "pygments_lexer": "ipython3",
   "version": "3.7.1"
  }
 },
 "nbformat": 4,
 "nbformat_minor": 2
}
