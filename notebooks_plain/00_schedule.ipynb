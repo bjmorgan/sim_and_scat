{
 "cells": [
  {
   "cell_type": "markdown",
   "metadata": {
    "slideshow": {
     "slide_type": "slide"
    }
   },
   "source": [
    "# The interaction between simulation and scattering \n",
    "\n",
    "<h2> <a href=\"https://arm61.github.io\">A. R. McCluskey</a>,<sup>a,b</sup> \n",
    "<a href=\"https://people.bath.ac.uk/ars44\">A. R. Symington</a>,<sup>a</sup> \n",
    "<a href=\"http://www.analysisandsynthesis.com/\">B. J. Morgan</a>,<sup>a</sup> \n",
    "<a href=\"https://people.bath.ac.uk/chske/\">K. J. Edler</a>,<sup>a</sup> \n",
    "<a href=\"https://people.bath.ac.uk/chsscp/\">S. C. Parker</a><sup>a</sup>\n",
    "\n",
    "<h4> <sup>a</sup> Department of Chemistry, University of Bath, Claverton Down, Bath, BA2 7AY, UK. <br><sup>b</sup> Diamond Light Source, Diamond House, Rutherford Appleton Laboratory, Harwell Oxford, OX11 0DE, UK. </h4>\n",
    "\n",
    "Molecular dynamics are hugely popular to aid in the analysis of data obtained from elastic scattering instruments [[9]](#References). \n",
    "However, many experimentalists hope to use molecular dynamics simulation as a black box. \n",
    "The aim of this tutorial is to introduce users of elastic scattering techniques, such as small angle scattering or diffraction, to classical molecular dynamics (MD) simulation.\n",
    "We hope this that the opportunity to more fully understand the complexity of MD simulation will engage experimentalists to interact more closely with the simulations they hope to utilise.  \n",
    "\n",
    "We will introduce classical MD simulation, in terms of a two-dimensional argon system, using the open-source package pylj[[1]](#References), and show how it is possible to determine radially averaged scattering profiles directly from the simulation (using the Debye equation [[2]](#References) and other more efficient methods such as the Golden Vectors approximation [[3]](#References))\n",
    "\n",
    "There are many important textbooks what may be referred to which give a more broad introduction to classical simulation, and computational modelling in general [[4-8]](#References). \n",
    "However, the focus of this work is to offer a general introduction to those from the scattering community."
   ]
  },
  {
   "cell_type": "markdown",
   "metadata": {
    "slideshow": {
     "slide_type": "slide"
    }
   },
   "source": [
    "## Prerequisites\n",
    "\n",
    "In order to complete the tutorial you will need:\n",
    "* Jupyter Notebooks, available as component of [anaconda](https://www.anaconda.com/download/)\n",
    "* Some basic understanding or familiarity with the Python programming language\n",
    "* An understanding of undergraduate chemistry/physics"
   ]
  },
  {
   "cell_type": "markdown",
   "metadata": {},
   "source": [
    "## How to use\n",
    "\n",
    "This tutorial is designed to be interactive. \n",
    "All of the text in the `code block` cells (see below) can be run in a Jupyter notebook. \n",
    "It is not always necessary to write the code out into your own notebook, although it is suggested and should be carried out in the later exercises that use pylj."
   ]
  },
  {
   "cell_type": "code",
   "execution_count": 1,
   "metadata": {},
   "outputs": [
    {
     "name": "stdout",
     "output_type": "stream",
     "text": [
      "This is an example of a code block\n"
     ]
    }
   ],
   "source": [
    "print('This is an example of a code block')"
   ]
  },
  {
   "cell_type": "markdown",
   "metadata": {
    "slideshow": {
     "slide_type": "slide"
    }
   },
   "source": [
    "## Schedule\n",
    "Approximate timings for the tutorial:\n",
    "\n",
    "| Time | Episode | Description |\n",
    "|---|---|---|\n",
    "| 0:00 | [Getting Started](./01_episode.ipynb) | Getting your system set up to run the tutorial |\n",
    "| 0:15 | [Classical Methods](./02_episode.ipynb) | Interacting spheres |\n",
    "| 0:30 | [Necessary Simplifactions](./03_episode.ipynb) | Hard maths is hard |\n",
    "| 0:45 | [Molecular Dynamics](./04_episode.ipynb) | Getting the ball rolling |\n",
    "| 1:00 | [Calculating Scattering](./05_episode.ipynb) | Something for nothing |"
   ]
  },
  {
   "cell_type": "markdown",
   "metadata": {
    "slideshow": {
     "slide_type": "slide"
    }
   },
   "source": [
    "## References\n",
    "\n",
    "1. A. R. McCluskey, B. J. Morgan, K. J. Edler, and S. C. Parker, (2018). *JOSE*, 1(2), 19, [10.21105/jose.00019](https://doi.org/10.21105/jose.00019)\n",
    "2. P. J. W. Debye, (1915). *Ann. Phys*. 351, 809–823, [10.1002/andp.19153510606](https:/doi.org/10.1002/andp.19153510606)\n",
    "3. M. C. Watson and J. E. Curtis, (2013). *J. Appl. Crystallogr.*, 46(4), 1171-1177, [10.1107/S002188981301666X](https://doi.org/10.1107/S002188981301666X)\n",
    "4. J. Harvey, (2017). *Computational Chemistry*. Oxford, UK. Oxford University Press\n",
    "5. G. H. Grant and W. G. Richards, (1995). *Computational Chemistry*. Oxford, UK. Oxford University Press\n",
    "6. A. R. Leach, (1996). *Molecular modelling: principles and applications*. Harlow, UK. Longman\n",
    "7. D. Frenkel and B. Smith, (2002). *Understanding molecular simulation: from algorithms to applications*. San Diego, USA. Academic Press\n",
    "8. M. P. Allen and D. J. Tildesley, (1987). *Computer simulation of liquids*. Oxford, UK. Clarendon Press."
   ]
  },
  {
   "cell_type": "code",
   "execution_count": null,
   "metadata": {},
   "outputs": [],
   "source": []
  }
 ],
 "metadata": {
  "kernelspec": {
   "display_name": "Python [default]",
   "language": "python",
   "name": "python3"
  },
  "language_info": {
   "codemirror_mode": {
    "name": "ipython",
    "version": 3
   },
   "file_extension": ".py",
   "mimetype": "text/x-python",
   "name": "python",
   "nbconvert_exporter": "python",
   "pygments_lexer": "ipython3",
   "version": "3.7.0"
  }
 },
 "nbformat": 4,
 "nbformat_minor": 2
}
