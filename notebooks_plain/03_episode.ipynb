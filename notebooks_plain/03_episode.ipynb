{
 "cells": [
  {
   "cell_type": "markdown",
   "metadata": {
    "slideshow": {
     "slide_type": "slide"
    }
   },
   "source": [
    "# Molecular dynamics"
   ]
  },
  {
   "cell_type": "markdown",
   "metadata": {
    "slideshow": {
     "slide_type": "slide"
    }
   },
   "source": [
    "## Overview\n",
    "\n",
    "**Questions**\n",
    "- How does molecular dynamics work?\n",
    "- What are the limitations of MD methods?\n",
    "\n",
    "**Objectives**\n",
    "- Develop an understanding of the fundamentals of molecular dynamics\n",
    "- Be able to construct a simple one-dimensional MD simulation from scratch"
   ]
  },
  {
   "cell_type": "markdown",
   "metadata": {
    "slideshow": {
     "slide_type": "slide"
    }
   },
   "source": [
    "Now that we have introduced the classical methods, and the complications of these methods, we can discuss how the dynamics of the molecules are obtained. \n",
    "\n",
    "## Force and acceleration\n",
    "The particles that we study are classical in nature, and therefore it is possible to apply classical mechanics to rationalise their dynamic behaviour. \n",
    "For this the starting point is **Newton's second law of motion**, \n",
    "\n",
    "$$ \\mathbf{f} = m\\mathbf{a}, $$\n",
    "\n",
    "where $\\mathbf{f}$ is the force on an atom of mass, $m$, and acceleration, $\\mathbf{a}$. \n",
    "The force between two particles, $i$ and $j$, can be found from the interaction energy, \n",
    "\n",
    "$$ f_{ij} = \\dfrac{-\\text{d}E(r_{ij})}{\\text{d}r_{ij}}.$$\n",
    "\n",
    "Which is to say that the force is the negative of the first derivative of the energy with respect to the distance between them.\n",
    "The code below creates a function that is capable of calculating the energy or the force from the Lennard-Jones potential, depending on the `force` variable. \n",
    "Both the energy and force are then plotted on a single graph."
   ]
  },
  {
   "cell_type": "code",
   "execution_count": 1,
   "metadata": {},
   "outputs": [
    {
     "data": {
      "image/png": "[encoded data removed]",
      "text/plain": [
       "<Figure size 576x360 with 1 Axes>"
      ]
     },
     "metadata": {
      "needs_background": "light"
     },
     "output_type": "display_data"
    }
   ],
   "source": [
    "%matplotlib inline\n",
    "import numpy as np\n",
    "import matplotlib.pyplot as plt\n",
    "\n",
    "def lj(rij, a, b, force):\n",
    "    \"\"\"\n",
    "    Implementation of the Lennard-Jones potential \n",
    "    to calculate either the energy or the force.\n",
    "    \n",
    "    Parameters\n",
    "    ----------\n",
    "    rij: float\n",
    "        Distance between two particles\n",
    "    a: float \n",
    "        A parameter for interaction\n",
    "    b: float \n",
    "        B parameter for interaction\n",
    "    force: bool\n",
    "        If true the force will be determined.\n",
    "    \n",
    "    Returns\n",
    "    -------\n",
    "    float\n",
    "        Either the energy or the force of the interaction.\n",
    "    \"\"\"\n",
    "    if force:\n",
    "        return 12 * a / np.power(rij, 13) - 6 * b / np.power(rij, 7)\n",
    "    else:\n",
    "        return a / np.power(rij, 12) - b / np.power(rij, 6)\n",
    "    \n",
    "r = np.linspace(3.5e-10, 8e-10, 100)\n",
    "fig = plt.figure(figsize=(8, 5))\n",
    "ax = fig.add_subplot(111)\n",
    "ax.plot(r, lj(r, 1.363e-134, 9.273e-78, True))\n",
    "ax.set_xlabel(r'$r_{ij}$/m')\n",
    "ax.set_ylabel(r'$\\mathbf{f}$/N')\n",
    "plt.show()"
   ]
  },
  {
   "cell_type": "markdown",
   "metadata": {},
   "source": [
    "You may have noticed that in Newton's second law of motion, the force is a vector quantity, whereas the force as the negative of the first derivative of the energy is not. \n",
    "This means that it is necessary to convert to obtain the force vector for the relevant dimensionality. \n",
    "This is achieved by multiplication by the unit vector in each dimension,\n",
    "\n",
    "$$ \\mathbf{f}_x = f\\hat{\\mathbf{r}}_x\\text{, where }\\hat{\\mathbf{r}}_x = \\dfrac{r_x}{|\\mathbf{r}|}. $$\n",
    "\n",
    "In the above equation, $r_x$ is the distance between the two particles in the $x$-dimension and $\\mathbf{r}$ is the overall distance vector. \n",
    "The above equation must be determined to find the force in each dimension. \n",
    "However, this tutorial will only consider particles interacting in a one-dimensional space. \n",
    "\n",
    "The code below shows how to determine the acceleration on each atom of argon due to each other atom of argon. "
   ]
  },
  {
   "cell_type": "code",
   "execution_count": 2,
   "metadata": {},
   "outputs": [
    {
     "name": "stdout",
     "output_type": "stream",
     "text": [
      "Acceleration on particle 1 = 1.463e+14 m/s\n",
      "Acceleration on particle 2 = -5.736e+13 m/s\n",
      "Acceleration on particle 3 = -8.891e+13 m/s\n"
     ]
    }
   ],
   "source": [
    "mass_of_argon = 39.948 # amu\n",
    "mass_of_argon_kg = mass_of_argon * 1.6605e-27\n",
    "\n",
    "def get_accelerations(positions):\n",
    "    \"\"\"\n",
    "    Calculate the acceleration on each particle as a \n",
    "    result of each other particle. \n",
    "    \n",
    "    Parameters\n",
    "    ----------\n",
    "    positions: ndarray of floats\n",
    "        The positions, in a single dimension, for all\n",
    "        of the particles\n",
    "        \n",
    "    Returns\n",
    "    -------\n",
    "    ndarray of floats\n",
    "        The acceleration on each particle\n",
    "    \"\"\"\n",
    "    rx = np.zeros((positions.size, positions.size))\n",
    "    accelerationx = np.zeros((positions.size, positions.size))\n",
    "    for i in range(0, positions.size):\n",
    "        for j in range(0, positions.size):\n",
    "            if i != j:\n",
    "                rx = positions[j] - positions[i]\n",
    "                rmag = np.sqrt(rx * rx)\n",
    "                force = lj(rmag, 1.363e-134, 9.273e-78, True)\n",
    "                forcex = force * rx / rmag\n",
    "                accelerationx[i, j] = forcex / mass_of_argon_kg\n",
    "            else:\n",
    "                accelerationx[i, j] = 0\n",
    "    return np.sum(accelerationx, axis=0)\n",
    "\n",
    "accel = get_accelerations(np.array([1e-10, 5e-10, 10e-10]))\n",
    "print('Acceleration on particle 1 = {:.3e} m/s'.format(accel[0]))\n",
    "print('Acceleration on particle 2 = {:.3e} m/s'.format(accel[1]))\n",
    "print('Acceleration on particle 3 = {:.3e} m/s'.format(accel[2]))"
   ]
  },
  {
   "cell_type": "markdown",
   "metadata": {},
   "source": [
    "## Integration\n",
    "\n",
    "Now that we understand the position and acceleration of our particles, we can consider applying the Newtonian equations of motion to probe the particles trajectory. \n",
    "However, first we must determine the velocity, \n",
    "\n",
    "$$ \\mathbf{x}_i(t + \\Delta t) = \\mathbf{x}_i(t) + \\mathbf{v}_i(t)\\Delta t + \\dfrac{1}{2} \\mathbf{a}_i(t)\\Delta t^2, $$\n",
    "\n",
    "$$ \\mathbf{v}_i(t + \\Delta t) = \\mathbf{v}_i(t) + \\dfrac{1}{2}\\big[\\mathbf{a}_i(t) + \\mathbf{a}_i(t+\\Delta t)\\big]\\Delta t, $$ \n",
    "\n",
    "where, $\\Delta t$ is the timestep (how far in time is incremented), $\\mathbf{x}_i$ is the particle position, $\\mathbf{v}_i$ is the velocity, and $\\mathbf{a}_i$ the acceleration. \n",
    "This pair of equations is known as the Velocity_verlet algorithm, which can be written as:\n",
    "\n",
    "1. Find the position of the particle after some timestep\n",
    "2. Calculate the force (and therefore acceleration) on the particle\n",
    "3. Determine a new velocity for the particle, based on the average acceleration at the current and new positions\n",
    "4. Overwrite the old acceleration values with the new ones, $\\mathbf{a}_i(t) = \\mathbf{a}_i(t+\\Delta t)$\n",
    "5. Go to 1\n",
    "\n",
    "This process can be continued for as long as is required to get good statistics for the quantity you are intereseting in (or for as long as you can wait for/afford to run the computer for). \n",
    "\n",
    "The code below is a set of two function for the above equations, these will be applied later."
   ]
  },
  {
   "cell_type": "code",
   "execution_count": 3,
   "metadata": {},
   "outputs": [],
   "source": [
    "def update_pos(x, v, a, dt):\n",
    "    \"\"\"\n",
    "    Update the particle positions.\n",
    "    \n",
    "    Parameters\n",
    "    ----------\n",
    "    x: ndarray of floats\n",
    "        The positions of the particles in a single dimension\n",
    "    v: ndarray of floats\n",
    "        The velocities of the particles in a single dimension\n",
    "    a: ndarray of floats\n",
    "        The accelerations of the particles in a single dimension\n",
    "    dt: float\n",
    "        The timestep length\n",
    "    \n",
    "    Returns\n",
    "    -------\n",
    "    ndarray of floats:\n",
    "        New positions of the particles in a single dimension\n",
    "    \"\"\"\n",
    "    return x + v * dt + 0.5 * a * dt * dt\n",
    "\n",
    "def update_velo(v, a, a1, dt):\n",
    "    \"\"\"\n",
    "    Update the particle velocities.\n",
    "    \n",
    "    Parameters\n",
    "    ----------\n",
    "    v: ndarray of floats\n",
    "        The velocities of the particles in a single dimension\n",
    "    a: ndarray of floats\n",
    "        The accelerations of the particles in a single dimension \n",
    "        at the previous timestep\n",
    "    a1: ndarray of floats\n",
    "        The accelerations of the particles in a single dimension\n",
    "        at the current timestep\n",
    "    dt: float\n",
    "        The timestep length\n",
    "    \n",
    "    Returns\n",
    "    -------\n",
    "    ndarray of floats:\n",
    "        New velocities of the particles in a single dimension\n",
    "    \"\"\"\n",
    "    return v + 0.5 * (a + a1) * dt"
   ]
  },
  {
   "cell_type": "markdown",
   "metadata": {},
   "source": [
    "This process is called the intergration step, and the Velocity-Verlet is the **integrator**. \n",
    "In essence, the function that is being integrated is the acceleration on the particular atom at a given time. \n",
    "This function is highly non-lineal for more than one particle. \n",
    "This means that the integration step will only be valid for every small values of $\\Delta t$, e.g. if a large timestep is used the acceleration calculated for that timestep is not accurate as the forces on the atom will change too significantly during it. \n",
    "The value for the timestep is usually on the order of 10<sup>-15</sup> s (femtoseconds). \n",
    "This means that to even measure a nanosecond of \"real-time\" molecular dynamics 1 000 000 (one million) iteractions of the above algorithm must be performed. \n",
    "\n",
    "## Initialisation\n",
    "\n",
    "There are only two tools left that you need to run a molecular dynamics simulation, and both are associated with the original configuration of the system; the original particle positions, and the original particle velocities. \n",
    "\n",
    "The particle positions are usually either taken from some library of structures (e.g. the protein data bank if you are simulating proteins) or based on some knowledge of the system (e.g. CaF<sub>2</sub> is known to have a face-centred cubic structure). \n",
    "The importance of this initial structure cannot be overstated.\n",
    "For example if the initial structure is very far form the equilibrium structure, it may take a very long time before the equilibrium structure is obtained, possibly much longer than can be reasonably simulated. \n",
    "\n",
    "The particle velocities are more general, as the total kinetic energy, $E_K$ of the system (and therefore the particle velocities) are dependent on the temperature of the simulation, $T$. \n",
    "\n",
    "$$ E_K = \\sum_{i=1}^N \\dfrac{m_i|v_i|^2}{2} = \\dfrac{3}{2}Nk_BT, $$\n",
    "\n",
    "where, $m_i$ is the mass of particle $i$, $N$ is the number of particles, and $k_B$ is the Boltzmann constant. \n",
    "Based on this knowledge, the most common way to obtain initial velocities is to assign random values and then scale them dependent on the temperature of the system. \n",
    "For example, in a common method for the initial velocity determinaiton is as follows, \n",
    "\n",
    "$$ v_i = R_i \\sqrt{\\dfrac{k_BT}{m_i}}, $$\n",
    "\n",
    "where $R_i$ is some random number between $-0.5$ and $0.5$, $k_B$ is the Boltzmann constant, $T$ is the temperature, and $m_i$ is the mass of the particle.\n",
    "\n",
    "This method is implemented in the function below. "
   ]
  },
  {
   "cell_type": "code",
   "execution_count": 4,
   "metadata": {},
   "outputs": [],
   "source": [
    "from scipy.constants import Boltzmann\n",
    "\n",
    "def init_velocity(T, number_of_particles):\n",
    "    \"\"\"\n",
    "    Initialise the velocities for a series of particles.\n",
    "    \n",
    "    Parameters\n",
    "    ----------\n",
    "    T: float\n",
    "        Temperature of the system at initialisation\n",
    "    number_of_particles: int\n",
    "        Number of particles in the system\n",
    "    \n",
    "    Returns\n",
    "    -------\n",
    "    ndarray of floats\n",
    "        Initial velocities for a series of particles\n",
    "    \"\"\"\n",
    "    R = np.random.rand(number_of_particles) - 0.5\n",
    "    return R * np.sqrt(Boltzmann * T / mass_of_argon_kg)"
   ]
  },
  {
   "cell_type": "markdown",
   "metadata": {},
   "source": [
    "## Build an MD simulation\n",
    "\n",
    "We can now using the functions defined above build a one-dimensional molecular dynamics simulation. "
   ]
  },
  {
   "cell_type": "code",
   "execution_count": 5,
   "metadata": {},
   "outputs": [
    {
     "data": {
      "image/png": "[encoded data removed]",
      "text/plain": [
       "<Figure size 576x360 with 1 Axes>"
      ]
     },
     "metadata": {
      "needs_background": "light"
     },
     "output_type": "display_data"
    }
   ],
   "source": [
    "def run_md(dt, number_of_steps, initial_temp, x):\n",
    "    \"\"\"\n",
    "    Run a MD simulation.\n",
    "    \n",
    "    Parameters\n",
    "    ----------\n",
    "    dt: float\n",
    "        The timestep length\n",
    "    number_of_steps: int\n",
    "        Number of iterations in the simulation\n",
    "    initial_temp: float\n",
    "        Temperature of the system at initialisation\n",
    "    x: ndarray of floats\n",
    "        The initial positions of the particles in a single dimension\n",
    "        \n",
    "    Returns\n",
    "    -------\n",
    "    ndarray of floats\n",
    "        The positions for all of the particles throughout the simulation\n",
    "    \"\"\"\n",
    "    positions = np.zeros((number_of_steps, 3))\n",
    "    v = init_velocity(initial_temp, 3)\n",
    "    a = get_accelerations(x)\n",
    "    for i in range(number_of_steps):\n",
    "        x = update_pos(x, v, a, dt)\n",
    "        a1 = get_accelerations(x)\n",
    "        v = update_velo(v, a, a1, dt)\n",
    "        a = np.array(a1)\n",
    "        positions[i, :] = x\n",
    "    return positions\n",
    "\n",
    "sim_pos = run_md(1e-14, 10000, 300, np.array([1e-10, 5e-10, 1e-9]))\n",
    "    \n",
    "%matplotlib inline\n",
    "fig = plt.figure(figsize=(8, 5))\n",
    "ax = fig.add_subplot(111)\n",
    "for i in range(sim_pos.shape[1]):\n",
    "    ax.plot(sim_pos[:, i], label='atom {}'.format(i))\n",
    "ax.set_xlabel(r'Step')\n",
    "ax.set_ylabel(r'$x$-Position/m')\n",
    "ax.legend(frameon=False)\n",
    "plt.show()"
   ]
  },
  {
   "cell_type": "markdown",
   "metadata": {},
   "source": [
    "If you build the simulation in your own Jupyter Notebook, it is possible to run the simulation at a series of different initial starting positions by varying values in the array `x`. "
   ]
  },
  {
   "cell_type": "markdown",
   "metadata": {
    "slideshow": {
     "slide_type": "slide"
    }
   },
   "source": [
    "## Key points\n",
    "- Introduced to the basics of molecular dynamics simulation\n",
    "- Understand the limitations on the timestep size available to molecular dynamics\n",
    "- Be able to program a simple one-dimension MD simulation"
   ]
  },
  {
   "cell_type": "code",
   "execution_count": null,
   "metadata": {},
   "outputs": [],
   "source": []
  }
 ],
 "metadata": {
  "celltoolbar": "Slideshow",
  "kernelspec": {
   "display_name": "Python [default]",
   "language": "python",
   "name": "python3"
  },
  "language_info": {
   "codemirror_mode": {
    "name": "ipython",
    "version": 3
   },
   "file_extension": ".py",
   "mimetype": "text/x-python",
   "name": "python",
   "nbconvert_exporter": "python",
   "pygments_lexer": "ipython3",
   "version": "3.7.1"
  }
 },
 "nbformat": 4,
 "nbformat_minor": 2
}
