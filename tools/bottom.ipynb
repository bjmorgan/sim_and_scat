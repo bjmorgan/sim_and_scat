{
 "cells": [
  {
   "cell_type": "markdown",
   "metadata": {},
   "source": [
    "<div class=\"w3-bar\"  style=\"background-color:#50565E\">\n",
    "<a href=\"{previous}\" class=\"w3-bar-item w3-button\"><h2 style='color:#FFFFFF;font-size:1.4rem;font-weight:300;font-family:-apple-system, BlinkMacSystemFont, \"Segoe UI\", Roboto, Oxygen, Ubuntu, Cantarell, \"Open Sans\", \"Helvetica Neue\", sans-serif;'><i class=\"fa fa-angle-double-left\"></i> Previous</h2></a>\n",
    "<a href=\"{index}\" class=\"w3-bar-item w3-button w3-center\" style=\"width:60%\"><h2 style='color:#FFFFFF;font-size:1.4rem;font-weight:300;font-family:-apple-system, BlinkMacSystemFont, \"Segoe UI\", Roboto, Oxygen, Ubuntu, Cantarell, \"Open Sans\", \"Helvetica Neue\", sans-serif;'>Schedule</h2></a>\n",
    "<a href=\"{next}\" class=\"w3-bar-item w3-button w3-right\"><h2 style='color:#FFFFFF;font-size:1.4rem;font-weight:300;font-family:-apple-system, BlinkMacSystemFont, \"Segoe UI\", Roboto, Oxygen, Ubuntu, Cantarell, \"Open Sans\", \"Helvetica Neue\", sans-serif;'>Next <i class=\"fa fa-angle-double-right\"></i></h2></a>\n",
    "</div>"
   ]
  }
 ],
 "metadata": {
  "kernelspec": {
   "display_name": "Python 3",
   "language": "python",
   "name": "python3"
  },
  "language_info": {
   "codemirror_mode": {
    "name": "ipython",
    "version": 3
   },
   "file_extension": ".py",
   "mimetype": "text/x-python",
   "name": "python",
   "nbconvert_exporter": "python",
   "pygments_lexer": "ipython3",
   "version": "3.7.0"
  }
 },
 "nbformat": 4,
 "nbformat_minor": 2
}
