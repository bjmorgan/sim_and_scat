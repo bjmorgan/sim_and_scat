{
 "cells": [
  {
   "cell_type": "markdown",
   "metadata": {
    "slideshow": {
     "slide_type": "slide"
    }
   },
   "source": [
    "# Parameterisation"
   ]
  },
  {
   "cell_type": "markdown",
   "metadata": {
    "slideshow": {
     "slide_type": "slide"
    }
   },
   "source": [
    "## Overview\n",
    "**Questions**\n",
    "- How do I get the parameters for a potential?\n",
    "- Why is this a limitation of molecular dynamics?\n",
    "\n",
    "**Objectives**\n",
    "- Emphasize the requirement to use or develop accurate potential models for the system under study."
   ]
  },
  {
   "cell_type": "markdown",
   "metadata": {
    "slideshow": {
     "slide_type": "slide"
    }
   },
   "source": [
    "We now understand that there are a series of different models that can be used to simulate atoms. \n",
    "These depend on the type of interaction (bonded/non-bonded, angle/dihedral, etc.).\n",
    "However, their nature also depends of the underlaying chemistry of the atoms. \n",
    "For example, with the Lennard-Jones interaction discussed in the previous lesson, the shape of the function (e.g. the depth and position of the potential energy well) is specific to the interaction between two atoms. \n",
    "Therefore, it is necessary that we understand *how* these functions are determined. \n",
    "This is called **force-field parameterisation**.\n",
    "\n",
    "## How to parameterise a forcefield?\n",
    "\n",
    "The purpose of force-field parameterisation is to create a model that is capable of accurately reproducing the energy or forces in an interaction. \n",
    "This means that the parameters should really be obtained from a more accurate technique than classical simulation. \n",
    "Commonly this means either experimental measurements, e.g. X-ray crystallography, or quantum mechanical calculations, we will be focusing on the latter. \n",
    "\n",
    "Mroe can be found out about quantum mechanical calculations in the textbooks mentioned in the introduction (in particular Jeremy Harvey's Computational Chemistry Primer [[1]](#References)).\n",
    "However, for our current purposes all that is needed to be known is that quantum mechanical calculations are more accurate than classical simulation (as they account for the electronic structure of the atoms) but they are significantly more limited to the number of atoms that they can compute (as they account for the electronic structure of the atoms). "
   ]
  },
  {
   "cell_type": "markdown",
   "metadata": {
    "slideshow": {
     "slide_type": "slide"
    }
   },
   "source": [
    "## Key Points\n",
    "- Classical methods simplify the atomistic modelling by treating the atoms using mathematical functions\n",
    "- There are a wide range of different mathematical functions available"
   ]
  },
  {
   "cell_type": "markdown",
   "metadata": {
    "slideshow": {
     "slide_type": "slide"
    }
   },
   "source": [
    "# References\n",
    "\n",
    "1. J. Harvey, (2017). *Computational Chemistry*. Oxford, UK. Oxford University Press"
   ]
  },
  {
   "cell_type": "code",
   "execution_count": null,
   "metadata": {},
   "outputs": [],
   "source": []
  }
 ],
 "metadata": {
  "celltoolbar": "Slideshow",
  "kernelspec": {
   "display_name": "Python [default]",
   "language": "python",
   "name": "python3"
  },
  "language_info": {
   "codemirror_mode": {
    "name": "ipython",
    "version": 3
   },
   "file_extension": ".py",
   "mimetype": "text/x-python",
   "name": "python",
   "nbconvert_exporter": "python",
   "pygments_lexer": "ipython3",
   "version": "3.7.0"
  }
 },
 "nbformat": 4,
 "nbformat_minor": 2
}
